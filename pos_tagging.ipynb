{
  "cells": [
    {
      "cell_type": "markdown",
      "source": [
        "# Part o Speech Tagging of Portugese Sentences\n",
        "\n",
        "Part of speech (PoS) taggins is a fundamental technique in most natural language recognition projects, in which we try to determine the role each word plays on a sentence. For example, the sentence \"Toto, I have a feeling that we are not in Kansas anymore.\" could be tagged as:\n",
        "\n",
        "| Word    | Tag         |\n",
        "|---------|-------------|\n",
        "| Toto    | Proper noun |\n",
        "| ,       | Punctuation |\n",
        "| I       | Pronoun     |\n",
        "| have    | Verb        |\n",
        "| a       | Determiner  |\n",
        "| feeling | Noun        |\n",
        "| that    | Preposition |\n",
        "| we      | Pronoun     |\n",
        "| are     | Verb        |\n",
        "| not     | Adverb      |\n",
        "| in      | Preposition |\n",
        "| Kansas  | Noun        |\n",
        "| anymore | Adverb      |\n",
        "| .       | Punctuation |\n",
        "\n",
        "However, on this notebbok, we will be performing PoS tagging over portuguese sentences, as english PoS tagging has already been covered in many other projects. Therefore, this discussion will be carried out in portuguese from this point onwards.\n",
        "\n",
        "If you want to learn about pos-tagging in english, you can checkout [this article](https://medium.com/data-science-in-your-pocket/pos-tagging-using-hidden-markov-models-hmm-viterbi-algorithm-in-nlp-mathematics-explained-d43ca89347c4) by Mehul Gupta who does a job that is honestly better than mine on explaining the topic in detail. You can also easily find [many implementations of PoS tagging on GitHub](https://github.com/search?q=pos-tagging)."
      ],
      "metadata": {
        "id": "p83fiRwv_piw"
      },
      "id": "p83fiRwv_piw"
    },
    {
      "cell_type": "markdown",
      "source": [
        "## Hidden Markov Model\n",
        "\n",
        "Nesses exemplos, usaremos a implementação do algoritmo _Hidden Markov Model_ (Modelo Oculto de Markov) oferecido pela biblioteca `nltk`. Esse modelo tem diversas aplicações além de _PoS tagging_ em áreas como termodinâmica, estatística, ecnomia, teoria da informação, entre outras.\n",
        "\n",
        "Teremos um processo stocastico, mais especificamente um processo Markoviano, ou seja, temos uma sequência de variáveis aleatórias que podem assumir um conjunto de estados $Q$ onde a probabilidade de cada estado depende apenas do estado assumido na variável anterior, chamaeremos essa sequência de $X$. Teremos também uma senquência de valores observáveis $Y$ onde a ocorrência de $y_n$ está relacionada com a ocorrência de $x_n$. Baseado nisso teremos duas tabelas de probabilidade: as probabilidades de transição e as probabilidades de emissão. As probabilidades de transição indicam a probabilidade de $x_n$ assumir um dado estado baseado no estado de $x_{n-1}$:\n",
        "\n",
        "$$P(x_n|x_{n-1})$$\n",
        "\n",
        "Enquanto as probabilidades de emissão indicam a probabilidade de um obervável $Y_n$ ser emitido por um estado de $X$:\n",
        "\n",
        "$$P(y_n|x_n)$$\n",
        "\n",
        "No nosso caso, os estados assumíveis serão classes de palavras existentes na língua portugesa que aqui serão representados com: \n",
        "\n",
        "| Classe de palavra                      | Tag        |\n",
        "|----------------------------------------|------------|\n",
        "| Artigo                                 | ART        |\n",
        "| Adjetivo                               | ADJ        |\n",
        "| Nome                                   | N          |\n",
        "| Nome próprio                           | NPROP      |\n",
        "| Pronome adjetivo                       | PROADJ     |\n",
        "| Pronome substantivo                    | PROSUB     |\n",
        "| Pronome pessoal                        | PROPESS    |\n",
        "| Pronome conectivo subordinado          | PRO-KS     |\n",
        "| Pronome conectivo subordinado relativo | PRO-KS-REL |\n",
        "| Advérbio                               | ADV        |\n",
        "| Advérbio conectivo subordinativo       | ADV-KS     |\n",
        "| Advérbio relativo subordinativo        | ADV-KS-REL |\n",
        "| Conjunção coordenativa                 | KC         |\n",
        "| Conjunção subordinativa                | KS         |\n",
        "| Preposição                             | PREP       |\n",
        "| Interjeição                            | IN         |\n",
        "| Verbo                                  | V          |\n",
        "| Verbo auxiliar                         | VAUX       |\n",
        "| Particípio                             | PCP        |\n",
        "| Palavra denotativa                     | PDEN       |\n",
        "| Moeda corrente                         | CUR        |\n",
        "\n",
        "as tags ainda podem ser acompanhadas de informações adicionais denotadas por:\n",
        "\n",
        "| Informação            | Modificador (_TAG_\\|MOD) |\n",
        "|-----------------------|--------------------------|\n",
        "| Estrangeirismo        | EST                      |\n",
        "| Apostos               | AP                       |\n",
        "| Dados                 | DAD                      |\n",
        "| Números de telefone   | TEL                      |\n",
        "| Datas                 | DAT                      |\n",
        "| Horas                 | HOR                      |\n",
        "| Contrações e ênclises | +                        |\n",
        "| Mesóclise             | !                        |\n",
        "\n",
        "\n",
        "A sequência $X$ será a sequência de tags atribuídas a uma sentença fornecida e a sequência $Y$ será composta das palavras que formam a sentença. Ou seja, teremos que as probabilidades de transição serão probabilidades de que uma classe de palavra seja precedida por outra, enquanto as probabilidades de emissão serão as probabilidades de que uma determinada palavra tenha o papel de uma determinada classe de discurso. Por exemplo, suponha que a tenhamos apenas três classes de palavras: nomes, verbos e advérbios, uma possível tabela de probabilidades de transição seria:\n",
        "\n",
        "|              | **Nome** | **Verbo** | **Advérbio** |\n",
        "|--------------|----------|-----------|--------------|\n",
        "| **Nome**     | 0.6      | 0.1       | 0.3          |\n",
        "| **Verbo**    | 0.5      | 0.1       | 0.4          |\n",
        "| **Advérbio** | 0.5      | 0.4       | 0.1          |\n",
        "\n",
        "caso o nosso vocabulário possua apenas as palavras armando, faz e rapidamente, uma possível tabela de probabilidades de emissão seria:\n",
        "\n",
        "|                 | **Nome** | **Verbo** | **Advérbio** |\n",
        "|-----------------|----------|-----------|--------------|\n",
        "| **Armando**     | 0.5      | 0.5       | 0.0          |\n",
        "| **Faz**         | 0.1      | 0.9       | 0.0          |\n",
        "| **Rapidamente** | 0.0      | 0.0       | 1.0          |\n",
        "\n",
        "O _Hidden Markov Model_ monta uma máquina de estados e trabalha com iterações baseadas nas duas probabilidades mencionadas para convergir e determinar uma classificação adequada para as palavras de uma sentença. Veremos agora o exemplo utilizando a implementação da `nltk` do algoritmo."
      ],
      "metadata": {
        "id": "YTavZH50eNqg"
      },
      "id": "YTavZH50eNqg"
    },
    {
      "cell_type": "markdown",
      "source": [
        "## Implementação"
      ],
      "metadata": {
        "id": "Fg6lOUUP9q6C"
      },
      "id": "Fg6lOUUP9q6C"
    },
    {
      "cell_type": "code",
      "execution_count": 18,
      "id": "e6ac2406",
      "metadata": {
        "id": "e6ac2406"
      },
      "outputs": [],
      "source": [
        "import numpy as np\n",
        "import nltk\n",
        "from nltk.tag.hmm import HiddenMarkovModelTrainer\n",
        "from random import randint\n",
        "from pandas import DataFrame"
      ]
    },
    {
      "cell_type": "markdown",
      "source": [
        "Utilizaremos o corpus disponível [nesse link](http://nilc.icmc.usp.br/macmorpho/macmorpho-v3.tgz) cuja documentação pode ser obtida [aqui](http://nilc.icmc.usp.br/macmorpho/macmorpho-manual.pdf)."
      ],
      "metadata": {
        "id": "vdRNY28d9m2j"
      },
      "id": "vdRNY28d9m2j"
    },
    {
      "cell_type": "code",
      "execution_count": 50,
      "id": "a74880ff",
      "metadata": {
        "id": "a74880ff"
      },
      "outputs": [],
      "source": [
        "corpus_train_path = './macmorpho-train.txt'\n",
        "corpus_test_path = './macmorpho-test.txt'"
      ]
    },
    {
      "cell_type": "markdown",
      "source": [
        "A função `read_tags` recebe o caminho para o arquivo e realiza o pré processamento do texto. Em primeiro lugar, colocamos todo o texto em letras minúsculas para evitar problemas. Em seguida observamos o formato do corpus que é uma sequência de tokens `PALAVRA_TAG` separados por espaço ou quebra de linha, então substituímos todos as quebras de linha por espaços e fazemos um split nesses espaços para separar esses tokens. Então fazemos um split por \"_\" para criar tuplas `(PALAVRA, TAG)`. Por fim, separamos o texto em sentenças assumindo que sentenças terminam em \".\", \"!\" ou \"?\".\n",
        "\n",
        "A função `read_sentence_text` é um helper que converte um vetor de tuplas na frase original."
      ],
      "metadata": {
        "id": "vzVpCyLG9_2t"
      },
      "id": "vzVpCyLG9_2t"
    },
    {
      "cell_type": "code",
      "execution_count": 6,
      "id": "687474e7",
      "metadata": {
        "id": "687474e7"
      },
      "outputs": [],
      "source": [
        "def read_tags(corpus_path: str):\n",
        "    corpus_file = open(corpus_path, encoding='utf-8')\n",
        "    corpus = corpus_file.read().replace('\\n', ' ').lower()\n",
        "    words = [tuple(word_tag.split('_')) for word_tag in corpus.split(' ')]\n",
        "    \n",
        "    sentences = [[]]\n",
        "    sentence_terminators = ['.', '!', '?']\n",
        "    for word in words:\n",
        "        sentences[-1].append(word)\n",
        "        if word[0] in sentence_terminators:\n",
        "            sentences.append([])\n",
        "    sentences.pop()        \n",
        "    \n",
        "    return sentences\n",
        "\n",
        "def read_sentence_text(sentence):\n",
        "    return ' '.join([word[0] for word in sentence])"
      ]
    },
    {
      "cell_type": "markdown",
      "source": [
        "Então pre-processamos nosso corpus e treinamos o modelo com a classe `HiddenMarkovModelTrainer` do módulo `hmm` da `nltk`."
      ],
      "metadata": {
        "id": "fnfnzEkmAEpI"
      },
      "id": "fnfnzEkmAEpI"
    },
    {
      "cell_type": "code",
      "execution_count": 9,
      "id": "8de119a7",
      "metadata": {
        "id": "8de119a7"
      },
      "outputs": [],
      "source": [
        "sentences = read_tags(corpus_train_path)\n",
        "trainer = HiddenMarkovModelTrainer()\n",
        "tagger = trainer.train_supervised(sentences[:34724])"
      ]
    },
    {
      "cell_type": "markdown",
      "source": [
        "Um exemplo da nossa organização dos dados é apresentado abaixo:"
      ],
      "metadata": {
        "id": "9cKOr0k1AViC"
      },
      "id": "9cKOr0k1AViC"
    },
    {
      "cell_type": "code",
      "execution_count": 22,
      "id": "5e4fc4e8",
      "metadata": {
        "id": "5e4fc4e8",
        "colab": {
          "base_uri": "https://localhost:8080/",
          "height": 573
        },
        "outputId": "a9d18290-c76d-47da-b1c1-2a3385e19e6c"
      },
      "outputs": [
        {
          "output_type": "stream",
          "name": "stdout",
          "text": [
            "Frase:\n",
            "em julho , esse segmento já havia registrado queda de 4,78 % nos preços .\n",
            "Representação:\n"
          ]
        },
        {
          "output_type": "execute_result",
          "data": {
            "text/html": [
              "\n",
              "  <div id=\"df-b03f34d0-4715-45a7-abd0-37c9230184c8\">\n",
              "    <div class=\"colab-df-container\">\n",
              "      <div>\n",
              "<style scoped>\n",
              "    .dataframe tbody tr th:only-of-type {\n",
              "        vertical-align: middle;\n",
              "    }\n",
              "\n",
              "    .dataframe tbody tr th {\n",
              "        vertical-align: top;\n",
              "    }\n",
              "\n",
              "    .dataframe thead th {\n",
              "        text-align: right;\n",
              "    }\n",
              "</style>\n",
              "<table border=\"1\" class=\"dataframe\">\n",
              "  <thead>\n",
              "    <tr style=\"text-align: right;\">\n",
              "      <th></th>\n",
              "      <th>0</th>\n",
              "      <th>1</th>\n",
              "    </tr>\n",
              "  </thead>\n",
              "  <tbody>\n",
              "    <tr>\n",
              "      <th>0</th>\n",
              "      <td>em</td>\n",
              "      <td>prep</td>\n",
              "    </tr>\n",
              "    <tr>\n",
              "      <th>1</th>\n",
              "      <td>julho</td>\n",
              "      <td>n</td>\n",
              "    </tr>\n",
              "    <tr>\n",
              "      <th>2</th>\n",
              "      <td>,</td>\n",
              "      <td>pu</td>\n",
              "    </tr>\n",
              "    <tr>\n",
              "      <th>3</th>\n",
              "      <td>esse</td>\n",
              "      <td>proadj</td>\n",
              "    </tr>\n",
              "    <tr>\n",
              "      <th>4</th>\n",
              "      <td>segmento</td>\n",
              "      <td>n</td>\n",
              "    </tr>\n",
              "    <tr>\n",
              "      <th>5</th>\n",
              "      <td>já</td>\n",
              "      <td>adv</td>\n",
              "    </tr>\n",
              "    <tr>\n",
              "      <th>6</th>\n",
              "      <td>havia</td>\n",
              "      <td>v</td>\n",
              "    </tr>\n",
              "    <tr>\n",
              "      <th>7</th>\n",
              "      <td>registrado</td>\n",
              "      <td>pcp</td>\n",
              "    </tr>\n",
              "    <tr>\n",
              "      <th>8</th>\n",
              "      <td>queda</td>\n",
              "      <td>n</td>\n",
              "    </tr>\n",
              "    <tr>\n",
              "      <th>9</th>\n",
              "      <td>de</td>\n",
              "      <td>prep</td>\n",
              "    </tr>\n",
              "    <tr>\n",
              "      <th>10</th>\n",
              "      <td>4,78</td>\n",
              "      <td>num</td>\n",
              "    </tr>\n",
              "    <tr>\n",
              "      <th>11</th>\n",
              "      <td>%</td>\n",
              "      <td>n</td>\n",
              "    </tr>\n",
              "    <tr>\n",
              "      <th>12</th>\n",
              "      <td>nos</td>\n",
              "      <td>prep+art</td>\n",
              "    </tr>\n",
              "    <tr>\n",
              "      <th>13</th>\n",
              "      <td>preços</td>\n",
              "      <td>n</td>\n",
              "    </tr>\n",
              "    <tr>\n",
              "      <th>14</th>\n",
              "      <td>.</td>\n",
              "      <td>pu</td>\n",
              "    </tr>\n",
              "  </tbody>\n",
              "</table>\n",
              "</div>\n",
              "      <button class=\"colab-df-convert\" onclick=\"convertToInteractive('df-b03f34d0-4715-45a7-abd0-37c9230184c8')\"\n",
              "              title=\"Convert this dataframe to an interactive table.\"\n",
              "              style=\"display:none;\">\n",
              "        \n",
              "  <svg xmlns=\"http://www.w3.org/2000/svg\" height=\"24px\"viewBox=\"0 0 24 24\"\n",
              "       width=\"24px\">\n",
              "    <path d=\"M0 0h24v24H0V0z\" fill=\"none\"/>\n",
              "    <path d=\"M18.56 5.44l.94 2.06.94-2.06 2.06-.94-2.06-.94-.94-2.06-.94 2.06-2.06.94zm-11 1L8.5 8.5l.94-2.06 2.06-.94-2.06-.94L8.5 2.5l-.94 2.06-2.06.94zm10 10l.94 2.06.94-2.06 2.06-.94-2.06-.94-.94-2.06-.94 2.06-2.06.94z\"/><path d=\"M17.41 7.96l-1.37-1.37c-.4-.4-.92-.59-1.43-.59-.52 0-1.04.2-1.43.59L10.3 9.45l-7.72 7.72c-.78.78-.78 2.05 0 2.83L4 21.41c.39.39.9.59 1.41.59.51 0 1.02-.2 1.41-.59l7.78-7.78 2.81-2.81c.8-.78.8-2.07 0-2.86zM5.41 20L4 18.59l7.72-7.72 1.47 1.35L5.41 20z\"/>\n",
              "  </svg>\n",
              "      </button>\n",
              "      \n",
              "  <style>\n",
              "    .colab-df-container {\n",
              "      display:flex;\n",
              "      flex-wrap:wrap;\n",
              "      gap: 12px;\n",
              "    }\n",
              "\n",
              "    .colab-df-convert {\n",
              "      background-color: #E8F0FE;\n",
              "      border: none;\n",
              "      border-radius: 50%;\n",
              "      cursor: pointer;\n",
              "      display: none;\n",
              "      fill: #1967D2;\n",
              "      height: 32px;\n",
              "      padding: 0 0 0 0;\n",
              "      width: 32px;\n",
              "    }\n",
              "\n",
              "    .colab-df-convert:hover {\n",
              "      background-color: #E2EBFA;\n",
              "      box-shadow: 0px 1px 2px rgba(60, 64, 67, 0.3), 0px 1px 3px 1px rgba(60, 64, 67, 0.15);\n",
              "      fill: #174EA6;\n",
              "    }\n",
              "\n",
              "    [theme=dark] .colab-df-convert {\n",
              "      background-color: #3B4455;\n",
              "      fill: #D2E3FC;\n",
              "    }\n",
              "\n",
              "    [theme=dark] .colab-df-convert:hover {\n",
              "      background-color: #434B5C;\n",
              "      box-shadow: 0px 1px 3px 1px rgba(0, 0, 0, 0.15);\n",
              "      filter: drop-shadow(0px 1px 2px rgba(0, 0, 0, 0.3));\n",
              "      fill: #FFFFFF;\n",
              "    }\n",
              "  </style>\n",
              "\n",
              "      <script>\n",
              "        const buttonEl =\n",
              "          document.querySelector('#df-b03f34d0-4715-45a7-abd0-37c9230184c8 button.colab-df-convert');\n",
              "        buttonEl.style.display =\n",
              "          google.colab.kernel.accessAllowed ? 'block' : 'none';\n",
              "\n",
              "        async function convertToInteractive(key) {\n",
              "          const element = document.querySelector('#df-b03f34d0-4715-45a7-abd0-37c9230184c8');\n",
              "          const dataTable =\n",
              "            await google.colab.kernel.invokeFunction('convertToInteractive',\n",
              "                                                     [key], {});\n",
              "          if (!dataTable) return;\n",
              "\n",
              "          const docLinkHtml = 'Like what you see? Visit the ' +\n",
              "            '<a target=\"_blank\" href=https://colab.research.google.com/notebooks/data_table.ipynb>data table notebook</a>'\n",
              "            + ' to learn more about interactive tables.';\n",
              "          element.innerHTML = '';\n",
              "          dataTable['output_type'] = 'display_data';\n",
              "          await google.colab.output.renderOutput(dataTable, element);\n",
              "          const docLink = document.createElement('div');\n",
              "          docLink.innerHTML = docLinkHtml;\n",
              "          element.appendChild(docLink);\n",
              "        }\n",
              "      </script>\n",
              "    </div>\n",
              "  </div>\n",
              "  "
            ],
            "text/plain": [
              "             0         1\n",
              "0           em      prep\n",
              "1        julho         n\n",
              "2            ,        pu\n",
              "3         esse    proadj\n",
              "4     segmento         n\n",
              "5           já       adv\n",
              "6        havia         v\n",
              "7   registrado       pcp\n",
              "8        queda         n\n",
              "9           de      prep\n",
              "10        4,78       num\n",
              "11           %         n\n",
              "12         nos  prep+art\n",
              "13      preços         n\n",
              "14           .        pu"
            ]
          },
          "metadata": {},
          "execution_count": 22
        }
      ],
      "source": [
        "sentence_index = randint(0, len(sentences))\n",
        "print(\"Frase:\")\n",
        "print(read_sentence_text(sentences[sentence_index]))\n",
        "print(\"Representação:\")\n",
        "DataFrame(sentences[sentence_index])"
      ]
    },
    {
      "cell_type": "markdown",
      "source": [
        "Com o modelo treinado, podemos realizar amostras de classificações para palavras com as funções abaixo."
      ],
      "metadata": {
        "id": "ZlvQNuHdCVeE"
      },
      "id": "ZlvQNuHdCVeE"
    },
    {
      "cell_type": "code",
      "source": [
        "def tag_word(word: str):\n",
        "  return tagger.tag([word.lower()])[0][1]\n",
        "\n",
        "def tag_sentence(sentence: str):\n",
        "  return tagger.tag_sents([sentence.split(' ')])[0]\n",
        "\n",
        "def print_tag(word: str):\n",
        "  print(f'{word}:', tag_word(word))"
      ],
      "metadata": {
        "id": "fvcm52MNEVAy"
      },
      "id": "fvcm52MNEVAy",
      "execution_count": 27,
      "outputs": []
    },
    {
      "cell_type": "markdown",
      "source": [
        "Palavras:"
      ],
      "metadata": {
        "id": "P8TpTw-MGJPe"
      },
      "id": "P8TpTw-MGJPe"
    },
    {
      "cell_type": "code",
      "execution_count": 38,
      "id": "7657f4ba",
      "metadata": {
        "colab": {
          "base_uri": "https://localhost:8080/"
        },
        "id": "7657f4ba",
        "outputId": "39dc060e-d3cc-4ac4-877c-d3a4d13ed7dc"
      },
      "outputs": [
        {
          "output_type": "stream",
          "name": "stdout",
          "text": [
            "fugiu: v\n",
            "escritório: n\n",
            "rapidamente: adv\n",
            "R$: cur\n",
            "armando: nprop\n",
            "seu: proadj\n",
            "feliz: adj\n",
            "credo: n\n"
          ]
        }
      ],
      "source": [
        "print_tag('fugiu')\n",
        "print_tag('escritório')\n",
        "print_tag('rapidamente')\n",
        "print_tag('R$')\n",
        "print_tag('armando')\n",
        "print_tag('seu')\n",
        "print_tag('feliz')"
      ]
    },
    {
      "cell_type": "markdown",
      "source": [
        "Sentenças:"
      ],
      "metadata": {
        "id": "WaHbLCFHGK58"
      },
      "id": "WaHbLCFHGK58"
    },
    {
      "cell_type": "code",
      "source": [
        "tag_sentence('mesmo estando atrasado , parou para cumprimentá-lo')"
      ],
      "metadata": {
        "colab": {
          "base_uri": "https://localhost:8080/"
        },
        "id": "VJ-7pCEZGR7l",
        "outputId": "e20c301b-d241-4af5-be8e-851e8a1b6587"
      },
      "id": "VJ-7pCEZGR7l",
      "execution_count": 47,
      "outputs": [
        {
          "output_type": "execute_result",
          "data": {
            "text/plain": [
              "[('mesmo', 'pden'),\n",
              " ('estando', 'v'),\n",
              " ('atrasado', 'pcp'),\n",
              " (',', 'pu'),\n",
              " ('parou', 'v'),\n",
              " ('para', 'prep'),\n",
              " ('cumprimentá-lo', 'n')]"
            ]
          },
          "metadata": {},
          "execution_count": 47
        }
      ]
    },
    {
      "cell_type": "code",
      "execution_count": 49,
      "id": "beda5d6e",
      "metadata": {
        "colab": {
          "base_uri": "https://localhost:8080/"
        },
        "id": "beda5d6e",
        "outputId": "5017f01e-2386-4323-d927-3623e299f3e6"
      },
      "outputs": [
        {
          "output_type": "execute_result",
          "data": {
            "text/plain": [
              "[('o', 'art'),\n",
              " ('galo', 'n'),\n",
              " ('ganhou', 'v'),\n",
              " ('mais', 'adv'),\n",
              " ('uma', 'art'),\n",
              " ('vez', 'n'),\n",
              " (',', 'pu'),\n",
              " ('ai', 'in'),\n",
              " ('credo', 'n')]"
            ]
          },
          "metadata": {},
          "execution_count": 49
        }
      ],
      "source": [
        "tag_sentence('o galo ganhou mais uma vez , ai credo')"
      ]
    },
    {
      "cell_type": "code",
      "source": [
        "tag_sentence('que a força esteja com você')"
      ],
      "metadata": {
        "colab": {
          "base_uri": "https://localhost:8080/"
        },
        "id": "SG8-HtLpHXLw",
        "outputId": "745c4890-70e9-4631-9aef-4558221acc15"
      },
      "id": "SG8-HtLpHXLw",
      "execution_count": 48,
      "outputs": [
        {
          "output_type": "execute_result",
          "data": {
            "text/plain": [
              "[('que', 'ks'),\n",
              " ('a', 'art'),\n",
              " ('força', 'n'),\n",
              " ('esteja', 'v'),\n",
              " ('com', 'prep'),\n",
              " ('você', 'propess')]"
            ]
          },
          "metadata": {},
          "execution_count": 48
        }
      ]
    },
    {
      "cell_type": "markdown",
      "source": [
        "## Testes do modelo\n",
        "\n",
        "Agora vamos utilizar o conjunto de dados de teste incluído junto ao corpus para testar a qualidade do modelo treinado."
      ],
      "metadata": {
        "id": "On-2XTPFHW3E"
      },
      "id": "On-2XTPFHW3E"
    },
    {
      "cell_type": "code",
      "source": [
        "test_sentences = read_tags(corpus_test_path)"
      ],
      "metadata": {
        "id": "heCOFig0IA51"
      },
      "id": "heCOFig0IA51",
      "execution_count": null,
      "outputs": []
    }
  ],
  "metadata": {
    "kernelspec": {
      "display_name": "Python 3 (ipykernel)",
      "language": "python",
      "name": "python3"
    },
    "language_info": {
      "codemirror_mode": {
        "name": "ipython",
        "version": 3
      },
      "file_extension": ".py",
      "mimetype": "text/x-python",
      "name": "python",
      "nbconvert_exporter": "python",
      "pygments_lexer": "ipython3",
      "version": "3.8.9"
    },
    "colab": {
      "name": "pos-tagging.ipynb",
      "provenance": [],
      "collapsed_sections": []
    }
  },
  "nbformat": 4,
  "nbformat_minor": 5
}